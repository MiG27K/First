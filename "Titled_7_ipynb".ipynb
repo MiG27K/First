{
  "nbformat": 4,
  "nbformat_minor": 0,
  "metadata": {
    "colab": {
      "provenance": [],
      "authorship_tag": "ABX9TyPT0JKFfFn4pndIR6AvzQU+",
      "include_colab_link": true
    },
    "kernelspec": {
      "name": "python3",
      "display_name": "Python 3"
    },
    "language_info": {
      "name": "python"
    }
  },
  "cells": [
    {
      "cell_type": "markdown",
      "metadata": {
        "id": "view-in-github",
        "colab_type": "text"
      },
      "source": [
        "<a href=\"https://colab.research.google.com/github/MiG27K/First/blob/main/%22Titled_7_ipynb%22.ipynb\" target=\"_parent\"><img src=\"https://colab.research.google.com/assets/colab-badge.svg\" alt=\"Open In Colab\"/></a>"
      ]
    },
    {
      "cell_type": "code",
      "execution_count": 76,
      "metadata": {
        "id": "A7a4LYgNrdQM"
      },
      "outputs": [],
      "source": [
        "from matplotlib import pyplot as plt\n",
        "from sklearn.datasets import make_blobs\n",
        "import numpy as np\n",
        "N = 50\n",
        "k = 5\n",
        "data, labels = make_blobs(n_samples=50, centers=2, random_state=0)\n",
        "def plot(data, labels, k):\n",
        "  X = [data[labels==i, 0] for i in range(k)]\n",
        "  Y = [data[labels==i, 1] for i in range(k)]\n",
        "  C = np.linspace(0, 1, k)\n",
        "  for i in range(k):\n",
        "    plt.scatter(X[i], Y[i], color=(C[k - i - 1], C[k - i - 3], C[k - i - 5]))\n",
        "\n",
        "\n",
        "  #x1 = data[labels==0, 0]\n",
        "  #y1 = data[labels==0, 1]\n",
        "  #x2 = data[labels==1, 0]\n",
        "  #y2 = data[labels==1, 1]\n",
        "  #plt.scatter(x1, y1, color='red')\n",
        "  #plt.scatter(x2, y2, color='green')"
      ]
    },
    {
      "cell_type": "code",
      "source": [
        "plot(data, labels, k)"
      ],
      "metadata": {
        "colab": {
          "base_uri": "https://localhost:8080/",
          "height": 430
        },
        "id": "R81tfVss3TpW",
        "outputId": "ab1484e5-4c01-450c-9006-ec25b9b50376"
      },
      "execution_count": 77,
      "outputs": [
        {
          "output_type": "display_data",
          "data": {
            "text/plain": [
              "<Figure size 640x480 with 1 Axes>"
            ],
            "image/png": "[encoded data removed]"
          },
          "metadata": {}
        }
      ]
    },
    {
      "cell_type": "code",
      "source": [
        "import numpy as np\n",
        "\n",
        "clusters = np.zeros(N)"
      ],
      "metadata": {
        "id": "bwaMVwA7t8ge"
      },
      "execution_count": 78,
      "outputs": []
    },
    {
      "cell_type": "code",
      "source": [
        "import random\n",
        "i1 = random.randint(1, N)\n",
        "i2 = random.randint(1, N)\n",
        "\n",
        "xc1, yc1 = data[i1][0], data[i1][1]\n",
        "xc2, yc2 = data[i2][0], data[i2][1]"
      ],
      "metadata": {
        "id": "bsLnJxd8vlhp"
      },
      "execution_count": 79,
      "outputs": []
    },
    {
      "cell_type": "code",
      "source": [
        "def plot_c(data, labels, xc1, yc1, xc2, yc2):\n",
        "  x1 = data[labels==0, 0]\n",
        "  y1 = data[labels==0, 1]\n",
        "  x2 = data[labels==1, 0]\n",
        "  y2 = data[labels==1, 1]\n",
        "  plt.scatter(x1, y1, color='lightcoral')\n",
        "  plt.scatter(x2, y2, color='lime')\n",
        "  plt.scatter(xc1, yc1, color='red')\n",
        "  plt.scatter(xc2, yc2, color='green')"
      ],
      "metadata": {
        "id": "M8C7J-LzwKar"
      },
      "execution_count": 80,
      "outputs": []
    },
    {
      "cell_type": "code",
      "source": [
        "plot_c(data, clusters, xc1, yc1, xc2, yc2)"
      ],
      "metadata": {
        "colab": {
          "base_uri": "https://localhost:8080/",
          "height": 430
        },
        "id": "1ylQZy_rwxac",
        "outputId": "f7385983-287c-43c1-d94c-8156933ece35"
      },
      "execution_count": 81,
      "outputs": [
        {
          "output_type": "display_data",
          "data": {
            "text/plain": [
              "<Figure size 640x480 with 1 Axes>"
            ],
            "image/png": "[encoded data removed]"
          },
          "metadata": {}
        }
      ]
    },
    {
      "cell_type": "code",
      "source": [
        "import math\n",
        "def dist(x1, y1, x2, y2):\n",
        "  return math.sqrt((x2 - x1)**2 + (y2 - y1)**2)"
      ],
      "metadata": {
        "id": "kMS7-AQIxBda"
      },
      "execution_count": 91,
      "outputs": []
    },
    {
      "cell_type": "code",
      "source": [
        "def new_clusters(data, clusters, centers):\n",
        "  k = len(centers)\n",
        "  for i in range(len(data)):\n",
        "    p = data[i]\n",
        "    d = [dist(p[0], p[1], centers[j][0], centers[j][1]) for j in range(k)]\n",
        "    mn = min(d)\n",
        "    i_mn = d.index(mn)\n",
        "    clusters[i] = i_mn\n",
        "  return clusters"
      ],
      "metadata": {
        "id": "lQN_A25kx2rW"
      },
      "execution_count": 89,
      "outputs": []
    },
    {
      "cell_type": "code",
      "source": [
        "def update_c(data, clusters):\n",
        "  X = [data[clusters==i, 0] for i in range(k)]\n",
        "  Y = [data[clusters==i, 1] for i in range(k)]\n",
        "\n",
        "  Xc = [np.average(X[i]) for i in range(k)]\n",
        "  Yc = [np.average(Y[i]) for i in range(k)]\n",
        "\n",
        "  centers = [[Xc[i], Yc[i]] for i in range(k)]\n",
        "  return centers"
      ],
      "metadata": {
        "id": "J3P_Nfqc1MmN"
      },
      "execution_count": 87,
      "outputs": []
    },
    {
      "cell_type": "code",
      "source": [
        "def clusterization(data, max_iter_count, k):\n",
        "  N = len(data)\n",
        "  clusters = np.zeros(N)\n",
        "  #First step: Random centers choose\n",
        "  num = [random.randint(1, N - 1) for i in range(k)]\n",
        "  centers = [[[data[num[i]][0]], [data[num[i]][1]]] for i in range(k)]\n",
        "  #Second step: Iterating update\n",
        "  for i in range(max_iter_count):\n",
        "    #Step two-one: New clusters identification\n",
        "    clusters = new_clusters(data, clusters, centers)\n",
        "    #Step two-two: New centers created\n",
        "    centers = update_c(data, clusters)\n",
        "  return clusters"
      ],
      "metadata": {
        "id": "FxmWAIhC0Ssl"
      },
      "execution_count": 85,
      "outputs": []
    },
    {
      "cell_type": "code",
      "source": [
        "result = clusterization(data, 50, k)\n",
        "plot(data, result, k)"
      ],
      "metadata": {
        "colab": {
          "base_uri": "https://localhost:8080/",
          "height": 466
        },
        "id": "JmpqXiOg3a3c",
        "outputId": "08c0944e-466e-47b9-ebf6-8ebf1314d50b"
      },
      "execution_count": 93,
      "outputs": [
        {
          "output_type": "stream",
          "name": "stderr",
          "text": [
            "<ipython-input-91-e8c90de7a78a>:3: DeprecationWarning: Conversion of an array with ndim > 0 to a scalar is deprecated, and will error in future. Ensure you extract a single element from your array before performing this operation. (Deprecated NumPy 1.25.)\n",
            "  return math.sqrt((x2 - x1)**2 + (y2 - y1)**2)\n"
          ]
        },
        {
          "output_type": "display_data",
          "data": {
            "text/plain": [
              "<Figure size 640x480 with 1 Axes>"
            ],
            "image/png": "[encoded data removed]"
          },
          "metadata": {}
        }
      ]
    }
  ]
}